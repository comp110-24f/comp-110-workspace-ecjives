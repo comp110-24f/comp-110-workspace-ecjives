{
 "cells": [
  {
   "cell_type": "markdown",
   "metadata": {},
   "source": [
    "# Quantifying Shakespeare\n",
    "\n",
    "## What are the frequency of letters Shakespeare used in his complete works?\n",
    "\n",
    "First we'll load the text data **from a file** into a variable"
   ]
  },
  {
   "cell_type": "code",
   "execution_count": 14,
   "metadata": {},
   "outputs": [
    {
     "name": "stdout",
     "output_type": "stream",
     "text": [
      "195958 lines in this file\n",
      "BARNARDO.\n",
      "\n"
     ]
    }
   ],
   "source": [
    "lines: list[str] = [] # This is where we'll store lines of text\n",
    "file_handle  = open(\"shakespeare.txt\", \"r\", encoding = \"utf8\")\n",
    "lines = file_handle.readlines()\n",
    "file_handle.close()\n",
    "\n",
    "print(f\"{len(lines)} lines in this file\")\n",
    "print(lines[34568])"
   ]
  },
  {
   "cell_type": "markdown",
   "metadata": {},
   "source": [
    "Now let's count the frequencies of all character values in Shakespeare"
   ]
  },
  {
   "cell_type": "code",
   "execution_count": null,
   "metadata": {},
   "outputs": [],
   "source": [
    "frequencies: dict[str, int] = {}\n",
    "\n",
    "# For each line in the lines list\n",
    "    # For each character in the line\n",
    "        # Increase the count of that character's frequency in the dictionary\n",
    "\n",
    "for line in lines:\n",
    "    for character in line:\n",
    "        if character not in frequencies:\n",
    "            frequencies[character] = 0\n",
    "        frequencies[character] += 1\n",
    "\n",
    "frequencies"
   ]
  },
  {
   "cell_type": "markdown",
   "metadata": {},
   "source": [
    "Now a clean version with only lowercase, alphabetical characters"
   ]
  },
  {
   "cell_type": "code",
   "execution_count": null,
   "metadata": {},
   "outputs": [],
   "source": [
    "clean_lines: list[str] = []\n",
    "frequencies: dict[str, int] = {}\n",
    "\n",
    "for line in lines:\n",
    "    for character in line:\n",
    "        if character.isalpha():\n",
    "            lower: str = character.lower()\n",
    "            if lower not in frequencies:\n",
    "                frequencies[lower] = 0\n",
    "            frequencies[lower] += 1\n",
    "\n",
    "frequencies"
   ]
  }
 ],
 "metadata": {
  "kernelspec": {
   "display_name": "Python 3",
   "language": "python",
   "name": "python3"
  },
  "language_info": {
   "codemirror_mode": {
    "name": "ipython",
    "version": 3
   },
   "file_extension": ".py",
   "mimetype": "text/x-python",
   "name": "python",
   "nbconvert_exporter": "python",
   "pygments_lexer": "ipython3",
   "version": "3.12.4"
  }
 },
 "nbformat": 4,
 "nbformat_minor": 2
}
